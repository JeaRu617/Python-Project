{
 "cells": [
  {
   "cell_type": "markdown",
   "id": "102eb0d7",
   "metadata": {},
   "source": [
    "# Question 1"
   ]
  },
  {
   "cell_type": "code",
   "execution_count": null,
   "id": "97973caf",
   "metadata": {},
   "outputs": [],
   "source": [
    "     "
   ]
  },
  {
   "cell_type": "code",
   "execution_count": 16,
   "id": "861927a2",
   "metadata": {},
   "outputs": [
    {
     "name": "stdout",
     "output_type": "stream",
     "text": [
      "The value of y at t is: 0.018457694145413515\n"
     ]
    }
   ],
   "source": [
    "def dydt(y,t):\n",
    "    return((-2*y*t))\n",
    "\n",
    "def rungeKutta(t0,y0,y,h):\n",
    "    n = int((t-t0)/h)\n",
    "    y=y0\n",
    "    for i in range (1, n+1):\n",
    "        k1 = dydt(t0,y)\n",
    "        k2 = dydt(t0+0.5*h, y+0.5*h*k1)\n",
    "        k3 = dydt(t0+0.5*h, y+0.5*h*k2)\n",
    "        k4 = dydt(t0+h, y+h*k3)\n",
    "        \n",
    "        y = y + (1/6)*h*(k1+2*k2+2*k3+k4)\n",
    "        t0 = t0 + h\n",
    "    return y\n",
    "\n",
    "t0=0\n",
    "y=1\n",
    "t=2\n",
    "h=0.2\n",
    "print ('The value of y at t is:', rungeKutta(t0,y,t,h))"
   ]
  },
  {
   "cell_type": "code",
   "execution_count": null,
   "id": "2c659712",
   "metadata": {},
   "outputs": [],
   "source": [
    "import math\n",
    "from matplotlib import pyplot as plt\n",
    "\n",
    "x = list(range(0,3))\n",
    "y = [math.pow(num,2) for num in x]\n",
    "\n",
    "plt.plot(x,y,colour='red')\n",
    "plt.title('y(t) versus (t)')\n",
    "plt.xlabel('t value from 0 to 2')\n",
    "plt.ylable('Y value')\n",
    "plt.show()"
   ]
  },
  {
   "cell_type": "markdown",
   "id": "aa958144",
   "metadata": {},
   "source": [
    "# Question 2"
   ]
  },
  {
   "cell_type": "code",
   "execution_count": 4,
   "id": "c0d3055d",
   "metadata": {},
   "outputs": [
    {
     "name": "stdout",
     "output_type": "stream",
     "text": [
      "[[2 4 6]\n",
      " [5 3 2]\n",
      " [7 8 9]]\n"
     ]
    }
   ],
   "source": [
    "import numpy as np\n",
    "import scipy as sc\n",
    "\n",
    "A = np.array([[2,4,6],[5,3,2],[7,8,9]])\n",
    "\n",
    "print(A)"
   ]
  },
  {
   "cell_type": "code",
   "execution_count": 5,
   "id": "d6337ccc",
   "metadata": {},
   "outputs": [
    {
     "name": "stdout",
     "output_type": "stream",
     "text": [
      "[[18]\n",
      " [13]\n",
      " [30]]\n"
     ]
    }
   ],
   "source": [
    "B = np.array([[18],[13],[30]])\n",
    "\n",
    "print(B)"
   ]
  },
  {
   "cell_type": "code",
   "execution_count": 6,
   "id": "73912c74",
   "metadata": {},
   "outputs": [
    {
     "name": "stdout",
     "output_type": "stream",
     "text": [
      "[[ 4.5]\n",
      " [-7.5]\n",
      " [ 6.5]]\n"
     ]
    }
   ],
   "source": [
    "solution = sc.linalg.solve(A,B)\n",
    "\n",
    "print(solution)"
   ]
  },
  {
   "cell_type": "markdown",
   "id": "fa67c4c3",
   "metadata": {},
   "source": [
    "# Question 3"
   ]
  },
  {
   "cell_type": "code",
   "execution_count": null,
   "id": "6ec6d8c3",
   "metadata": {},
   "outputs": [],
   "source": [
    "import requests\n",
    "\n",
    "api_url = \"https://api.open-meteo.com/v1/forecast?latitude=2.5&longitude=112.5&hourly=temperature_2m&timezone=Asia%2FSingapore&forecast_days=1\"\n",
    "response = requests.get(api_url)\n",
    "temperature_2m = response.json()\n",
    "\n",
    "while True:\n",
    "    day_name = input(\"Enter the day: \")\n",
    "\n",
    "    day_found = False\n",
    "    for day in temperature_2m:\n",
    "        print(f\"Temperature of {day_name}: {day['temperature_2m']}\")\n",
    "        day_found = True\n",
    "        break\n",
    "\n",
    "    if not day_found:\n",
    "        print(f\"{day_name} is not found in the data\")"
   ]
  },
  {
   "cell_type": "code",
   "execution_count": 41,
   "id": "4c61e3be",
   "metadata": {},
   "outputs": [
    {
     "ename": "SyntaxError",
     "evalue": "':' expected after dictionary key (3399566096.py, line 30)",
     "output_type": "error",
     "traceback": [
      "\u001b[1;36m  Cell \u001b[1;32mIn[41], line 30\u001b[1;36m\u001b[0m\n\u001b[1;33m    \"temperature\" = [\u001b[0m\n\u001b[1;37m                ^\u001b[0m\n\u001b[1;31mSyntaxError\u001b[0m\u001b[1;31m:\u001b[0m ':' expected after dictionary key\n"
     ]
    }
   ],
   "source": [
    "json_data = {\n",
    "    \"hourly_time_points\" :[\n",
    "        \n",
    "        \"2024-01-11T00:00\",\n",
    "        \"2024-01-11T01:00\",\n",
    "        \"2024-01-11T02:00\",\n",
    "        \"2024-01-11T03:00\",\n",
    "        \"2024-01-11T04:00\",\n",
    "        \"2024-01-11T05:00\",\n",
    "        \"2024-01-11T06:00\",\n",
    "        \"2024-01-11T07:00\",\n",
    "        \"2024-01-11T08:00\",\n",
    "        \"2024-01-11T09:00\",\n",
    "        \"2024-01-11T10:00\",\n",
    "        \"2024-01-11T11:00\",\n",
    "        \"2024-01-11T12:00\",\n",
    "        \"2024-01-11T13:00\",\n",
    "        \"2024-01-11T14:00\",\n",
    "        \"2024-01-11T15:00\",\n",
    "        \"2024-01-11T16:00\",\n",
    "        \"2024-01-11T17:00\",\n",
    "        \"2024-01-11T18:00\",\n",
    "        \"2024-01-11T19:00\",\n",
    "        \"2024-01-11T20:00\",\n",
    "        \"2024-01-11T21:00\",\n",
    "        \"2024-01-11T22:00\",\n",
    "        \"2024-01-11T23:00\"\n",
    "    ],\n",
    "\n",
    "    \"temperature\" = [\n",
    "        23.8,\n",
    "        23.5,\n",
    "        23.3,\n",
    "        23.2,\n",
    "        23.1,\n",
    "        23.1,\n",
    "        23,\n",
    "        23,\n",
    "        24.2,\n",
    "        25.6,\n",
    "        26.8,\n",
    "        27.9,\n",
    "        28.4,\n",
    "        28.9,\n",
    "        28.6,\n",
    "        28,\n",
    "        27.8,\n",
    "        26.9,\n",
    "        26,\n",
    "        25.3,\n",
    "        25,\n",
    "        24.7,\n",
    "        24.6,\n",
    "        24.4\n",
    "    ]\n",
    "}\n",
    "\n",
    "time = json_data[\"hourly_time_points\"]\n",
    "temperature = json_data[\"temperature\"]\n",
    "\n",
    "plt.plot(time,temperature,color=\"red\")\n",
    "plt.title(\"Temperature\")\n",
    "plt.xlabel(\"time\")\n",
    "plt.ylabel(\"temperature\")\n",
    "plt.show()"
   ]
  },
  {
   "cell_type": "code",
   "execution_count": null,
   "id": "21f04a31",
   "metadata": {},
   "outputs": [],
   "source": []
  }
 ],
 "metadata": {
  "kernelspec": {
   "display_name": "Python 3 (ipykernel)",
   "language": "python",
   "name": "python3"
  },
  "language_info": {
   "codemirror_mode": {
    "name": "ipython",
    "version": 3
   },
   "file_extension": ".py",
   "mimetype": "text/x-python",
   "name": "python",
   "nbconvert_exporter": "python",
   "pygments_lexer": "ipython3",
   "version": "3.11.5"
  }
 },
 "nbformat": 4,
 "nbformat_minor": 5
}
