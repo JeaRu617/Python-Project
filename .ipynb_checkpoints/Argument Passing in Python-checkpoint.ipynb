{
 "cells": [
  {
   "cell_type": "markdown",
   "id": "dab2aa7e",
   "metadata": {},
   "source": [
    "# Positional Arguments"
   ]
  },
  {
   "cell_type": "code",
   "execution_count": 3,
   "id": "7bac1eca",
   "metadata": {},
   "outputs": [
    {
     "name": "stdout",
     "output_type": "stream",
     "text": [
      "Alice is enrolled in Mathematics class.\n"
     ]
    }
   ],
   "source": [
    "def student_information(class_name, student_name):\n",
    "    # Display information about a student and their class.\n",
    "    print(student_name + \" is enrolled in \" + class_name + \" class. \")\n",
    "# Positional arguments:\n",
    "student_information('Mathematics', 'Alice')"
   ]
  },
  {
   "cell_type": "markdown",
   "id": "4d4f6d25",
   "metadata": {},
   "source": [
    "# Keyword Arguments"
   ]
  },
  {
   "cell_type": "code",
   "execution_count": 4,
   "id": "25ff76a8",
   "metadata": {},
   "outputs": [
    {
     "name": "stdout",
     "output_type": "stream",
     "text": [
      "Alice is enrolled in Mathematics class. \n"
     ]
    }
   ],
   "source": [
    "def student_information(class_name, student_name):\n",
    "    # Display information about a student and their class.\n",
    "    print(student_name + \" is enrolled in \" + class_name + \" class. \")\n",
    "# Keyword arguments:\n",
    "student_information(class_name='Mathematics', student_name='Alice') #position of class and student name can shift cuz we enter the keyword "
   ]
  },
  {
   "cell_type": "markdown",
   "id": "ed006d39",
   "metadata": {},
   "source": [
    "# Defalt Arguments"
   ]
  },
  {
   "cell_type": "code",
   "execution_count": 18,
   "id": "c8b96f1c",
   "metadata": {},
   "outputs": [
    {
     "name": "stdout",
     "output_type": "stream",
     "text": [
      "Student Name: Lina\n",
      "Enrolled Course: Introduction to Python\n",
      "Student Name: Sara\n",
      "Enrolled Course: Data Structures\n"
     ]
    }
   ],
   "source": [
    "def enroll_student(student_name, course='Introduction to Python'):\n",
    "    # Enroll a student in a course with a defalt option.\n",
    "    print(\"Student Name: \" + student_name)\n",
    "    print(\"Enrolled Course: \" + course)\n",
    "# Using the default argument for course:\n",
    "enroll_student(student_name='Lina')\n",
    "# Overriding the default argument for course:\n",
    "enroll_student(student_name='Sara',course='Data Structures')"
   ]
  },
  {
   "cell_type": "markdown",
   "id": "21127fea",
   "metadata": {},
   "source": [
    "# Variable-length Arguments:*args"
   ]
  },
  {
   "cell_type": "code",
   "execution_count": 20,
   "id": "6351e42d",
   "metadata": {},
   "outputs": [
    {
     "name": "stdout",
     "output_type": "stream",
     "text": [
      "Student: Emily\n",
      "Enrolled in: \n",
      "-Biology 101\n",
      "-Chemisrty 101\n",
      "-Physics 101\n"
     ]
    }
   ],
   "source": [
    "def enroll_in_courses(student_name, *courses):\n",
    "    # Enroll a student in multiple courses.\n",
    "    print(\"Student: \" + student_name)\n",
    "    print(\"Enrolled in: \")\n",
    "    for course in courses:\n",
    "        print(\"-\" + course)\n",
    "# Example of enrolling a student in three different courses:\n",
    "enroll_in_courses('Emily', 'Biology 101', 'Chemisrty 101', 'Physics 101')"
   ]
  },
  {
   "cell_type": "markdown",
   "id": "ded998c8",
   "metadata": {},
   "source": [
    "# Variable-length Arguments:*args"
   ]
  },
  {
   "cell_type": "code",
   "execution_count": 21,
   "id": "a0d754a8",
   "metadata": {},
   "outputs": [
    {
     "name": "stdout",
     "output_type": "stream",
     "text": [
      "Enrolling Smith with the following details: \n",
      "-Course : Algebra II\n",
      "-Semester : One\n",
      "-Payment Method : Credit Card\n"
     ]
    }
   ],
   "source": [
    "def enroll_student(student_name,**details):\n",
    "    # Enroll a student with additional details.\n",
    "    print(\"Enrolling \" + student_name + \" with the following details: \")\n",
    "    for detail, value in details.items():\n",
    "        print(\"-\" + detail.replace('_',' ').title() + \" : \" + str(value))\n",
    "# Example of enrolling a student with additional details:\n",
    "enroll_student('Smith',course='Algebra II',semester='One',payment_method='Credit Card')\n",
    "        "
   ]
  },
  {
   "cell_type": "markdown",
   "id": "5635a5e8",
   "metadata": {},
   "source": [
    "# Library Book Management"
   ]
  },
  {
   "cell_type": "code",
   "execution_count": 35,
   "id": "3d5d6177",
   "metadata": {},
   "outputs": [
    {
     "name": "stdout",
     "output_type": "stream",
     "text": [
      "Checkout Processed by: Sarah Connor\n",
      "Books Checked Out: \n",
      "-1984\n",
      "-Brave New World\n",
      "Checkout Duration: 3 weeks\n",
      "Additional Checkout Details: \n",
      "-Late Fee:$0.25\n",
      "-Renewals Allowed:2\n",
      "Special Conditions for Checkout: \n",
      "-Handle with care\n"
     ]
    }
   ],
   "source": [
    "def checkout_books (librarian_name, *book_details, checkout_duration = '2 weeks', special_conditions,**additional_checkout_details):\n",
    "    print(\"Checkout Processed by: \" + librarian_name )\n",
    "    print(\"Books Checked Out: \")\n",
    "    for book_detail in book_details:\n",
    "        print(\"-\" + book_detail)\n",
    "    print(\"Checkout Duration: \" + checkout_duration)\n",
    "    print(\"Additional Checkout Details: \")\n",
    "    for detail, value in additional_checkout_details.items():\n",
    "        print(\"-\" + detail.replace('_',' ').title() + \":\" + str(value))\n",
    "    print(\"Special Conditions for Checkout: \")\n",
    "    print(\"-\" + special_conditions)\n",
    "        \n",
    "checkout_books('Sarah Connor','1984','Brave New World', checkout_duration='3 weeks', late_fee='$0.25',renewals_allowed='2', special_conditions='Handle with care')"
   ]
  },
  {
   "cell_type": "code",
   "execution_count": null,
   "id": "1da6095e",
   "metadata": {},
   "outputs": [],
   "source": []
  },
  {
   "cell_type": "code",
   "execution_count": null,
   "id": "fd6d36f7",
   "metadata": {},
   "outputs": [],
   "source": []
  }
 ],
 "metadata": {
  "kernelspec": {
   "display_name": "Python 3 (ipykernel)",
   "language": "python",
   "name": "python3"
  },
  "language_info": {
   "codemirror_mode": {
    "name": "ipython",
    "version": 3
   },
   "file_extension": ".py",
   "mimetype": "text/x-python",
   "name": "python",
   "nbconvert_exporter": "python",
   "pygments_lexer": "ipython3",
   "version": "3.11.5"
  }
 },
 "nbformat": 4,
 "nbformat_minor": 5
}
