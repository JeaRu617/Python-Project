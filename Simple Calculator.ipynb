{
 "cells": [
  {
   "cell_type": "markdown",
   "id": "d21f8441",
   "metadata": {},
   "source": [
    "# Simple calculator"
   ]
  },
  {
   "cell_type": "code",
   "execution_count": null,
   "id": "90c56f7d",
   "metadata": {},
   "outputs": [
    {
     "name": "stdout",
     "output_type": "stream",
     "text": [
      "Enter the first number: 1\n",
      "Enter the second number: 2\n",
      "Enter the mathematical operation (+,-,*,/): +\n",
      "1 + 2 = 3\n"
     ]
    }
   ],
   "source": [
    "def simple_calculator():\n",
    "    while True:\n",
    "        try:\n",
    "            num1 = int(input(\"Enter the first number: \"))\n",
    "            num2 = int(input(\"Enter the second number: \"))\n",
    "            oper = input(\"Enter the mathematical operation (+,-,*,/): \")  \n",
    "\n",
    "            if oper == \"+\":\n",
    "                result = num1 + num2\n",
    "                print(f\"{num1} + {num2} = {result}\")\n",
    "            elif oper == \"-\":\n",
    "                result = num1 - num2\n",
    "                print(f\"{num1} - {num2} = {result}\")\n",
    "            elif oper == \"*\":\n",
    "                result = num1 * num2\n",
    "                print(f\"{num1} * {num2} = {result}\")\n",
    "            elif oper == \"/\":\n",
    "                if num2 == 0:\n",
    "                    print(\"Division by zero is not allowed.\")\n",
    "                else:\n",
    "                    result = num1 / num2\n",
    "                    print(f\"{num1} / {num2} = {result}\")\n",
    "            else:\n",
    "                print(\"Invalid operation. Please choose from +,-,*,/ \")\n",
    "                continue\n",
    "\n",
    "        except ValueError:\n",
    "            print(\"This is not an integer. Please enter a valid number.\")\n",
    "        except Exception as e:\n",
    "            print(f\"An unexpected error occurred: {e}\")\n",
    "         \n",
    "simple_calculator()"
   ]
  },
  {
   "cell_type": "code",
   "execution_count": null,
   "id": "57899eb4",
   "metadata": {},
   "outputs": [],
   "source": []
  }
 ],
 "metadata": {
  "kernelspec": {
   "display_name": "Python 3 (ipykernel)",
   "language": "python",
   "name": "python3"
  },
  "language_info": {
   "codemirror_mode": {
    "name": "ipython",
    "version": 3
   },
   "file_extension": ".py",
   "mimetype": "text/x-python",
   "name": "python",
   "nbconvert_exporter": "python",
   "pygments_lexer": "ipython3",
   "version": "3.11.5"
  }
 },
 "nbformat": 4,
 "nbformat_minor": 5
}
